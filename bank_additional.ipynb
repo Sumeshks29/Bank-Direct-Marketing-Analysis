{
 "cells": [
  {
   "cell_type": "code",
   "execution_count": 1,
   "metadata": {},
   "outputs": [],
   "source": [
    "import csv\n",
    "import pandas as pd\n",
    "import numpy as np\n",
    "import seaborn as sns\n",
    "import matplotlib.pyplot as plt\n",
    "from sklearn.preprocessing import Imputer, LabelEncoder\n",
    "\n",
    "%matplotlib inline"
   ]
  },
  {
   "cell_type": "code",
   "execution_count": 61,
   "metadata": {},
   "outputs": [],
   "source": [
    "bank_add = pd.read_csv('/home/sumeshks29/Documents/Hackathon/bank-additional/bank-additional-full.csv', delimiter = ';')\n",
    "bank = pd.read_csv('/home/sumeshks29/Documents/Hackathon/bank-full.csv', delimiter = ';')\n",
    "bank_add.rename(columns={'emp.var.rate': 'emp_var_rate', 'cons.price.idx': 'cons_price_idx','cons.conf.idx':'cons_conf_idx','nr.employed':'nr_employed'},\n",
    "             inplace=True)\n",
    "bank_add.y.replace({'yes':1,'no':0})\n",
    "bank_add.drop(['duration','day_of_week','month'],axis = 1, inplace = True)\n",
    "df = bank_add "
   ]
  },
  {
   "cell_type": "code",
   "execution_count": 57,
   "metadata": {},
   "outputs": [],
   "source": [
    "def age_buck(row):\n",
    "    if row['age']>60:\n",
    "        val = 0\n",
    "    elif(row['age']>= 40 and row['age']<60):\n",
    "        val = 1\n",
    "    elif(row['age']>= 20 and row['age']<40):\n",
    "        val = 2\n",
    "    else:\n",
    "        val = 3\n",
    "    return val\n",
    "bank_add['buck'] = bank_add.apply(age_buck,axis=1)\n"
   ]
  },
  {
   "cell_type": "code",
   "execution_count": 11,
   "metadata": {},
   "outputs": [
    {
     "data": {
      "text/html": [
       "<div>\n",
       "<style scoped>\n",
       "    .dataframe tbody tr th:only-of-type {\n",
       "        vertical-align: middle;\n",
       "    }\n",
       "\n",
       "    .dataframe tbody tr th {\n",
       "        vertical-align: top;\n",
       "    }\n",
       "\n",
       "    .dataframe thead th {\n",
       "        text-align: right;\n",
       "    }\n",
       "</style>\n",
       "<table border=\"1\" class=\"dataframe\">\n",
       "  <thead>\n",
       "    <tr style=\"text-align: right;\">\n",
       "      <th></th>\n",
       "      <th>age</th>\n",
       "      <th>job</th>\n",
       "      <th>marital</th>\n",
       "      <th>education</th>\n",
       "      <th>default</th>\n",
       "      <th>housing</th>\n",
       "      <th>loan</th>\n",
       "      <th>contact</th>\n",
       "      <th>campaign</th>\n",
       "      <th>pdays</th>\n",
       "      <th>previous</th>\n",
       "      <th>poutcome</th>\n",
       "      <th>emp_var_rate</th>\n",
       "      <th>cons_price_idx</th>\n",
       "      <th>cons_conf_idx</th>\n",
       "      <th>euribor3m</th>\n",
       "      <th>nr_employed</th>\n",
       "      <th>y</th>\n",
       "      <th>buck</th>\n",
       "    </tr>\n",
       "  </thead>\n",
       "  <tbody>\n",
       "    <tr>\n",
       "      <th>0</th>\n",
       "      <td>39</td>\n",
       "      <td>3</td>\n",
       "      <td>1</td>\n",
       "      <td>0</td>\n",
       "      <td>0</td>\n",
       "      <td>0</td>\n",
       "      <td>0</td>\n",
       "      <td>1</td>\n",
       "      <td>1</td>\n",
       "      <td>999</td>\n",
       "      <td>0</td>\n",
       "      <td>1</td>\n",
       "      <td>1.1</td>\n",
       "      <td>93.994</td>\n",
       "      <td>-36.4</td>\n",
       "      <td>4.857</td>\n",
       "      <td>5191.0</td>\n",
       "      <td>0</td>\n",
       "      <td>1</td>\n",
       "    </tr>\n",
       "  </tbody>\n",
       "</table>\n",
       "</div>"
      ],
      "text/plain": [
       "   age  job  marital  education  default  housing  loan  contact  campaign  \\\n",
       "0   39    3        1          0        0        0     0        1         1   \n",
       "\n",
       "   pdays  previous  poutcome  emp_var_rate  cons_price_idx  cons_conf_idx  \\\n",
       "0    999         0         1           1.1          93.994          -36.4   \n",
       "\n",
       "   euribor3m  nr_employed  y  buck  \n",
       "0      4.857       5191.0  0     1  "
      ]
     },
     "execution_count": 11,
     "metadata": {},
     "output_type": "execute_result"
    }
   ],
   "source": [
    "encode = ['y','poutcome','education','marital','housing','default','loan','contact','job','age']\n",
    "for i in encode:\n",
    "    lab = LabelEncoder()\n",
    "    bank_add[i] = lab.fit_transform(bank_add[i].astype('str'))"
   ]
  },
  {
   "cell_type": "code",
   "execution_count": 15,
   "metadata": {},
   "outputs": [],
   "source": [
    "X = bank_add.drop('y',axis=1)\n",
    "Y = bank_add['y']"
   ]
  },
  {
   "cell_type": "code",
   "execution_count": 16,
   "metadata": {},
   "outputs": [],
   "source": [
    "from sklearn.model_selection import train_test_split\n",
    "from sklearn.metrics import recall_score, precision_score, accuracy_score\n",
    "from sklearn.ensemble import RandomForestClassifier, GradientBoostingClassifier\n",
    "from sklearn.metrics import confusion_matrix, classification_report,roc_auc_score,roc_curve\n",
    "X_train,X_valid,Y_train,Y_valid = train_test_split(X,Y,test_size=0.2,random_state=99)"
   ]
  },
  {
   "cell_type": "code",
   "execution_count": 17,
   "metadata": {},
   "outputs": [
    {
     "name": "stderr",
     "output_type": "stream",
     "text": [
      "[Parallel(n_jobs=-1)]: Done  42 tasks      | elapsed:    0.6s\n",
      "[Parallel(n_jobs=-1)]: Done 100 out of 100 | elapsed:    1.3s finished\n",
      "[Parallel(n_jobs=4)]: Done  42 tasks      | elapsed:    0.0s\n",
      "[Parallel(n_jobs=4)]: Done 100 out of 100 | elapsed:    0.1s finished\n",
      "[Parallel(n_jobs=4)]: Done  42 tasks      | elapsed:    0.0s\n",
      "[Parallel(n_jobs=4)]: Done 100 out of 100 | elapsed:    0.1s finished\n",
      "[Parallel(n_jobs=4)]: Done  42 tasks      | elapsed:    0.0s\n",
      "[Parallel(n_jobs=4)]: Done 100 out of 100 | elapsed:    0.1s finished\n"
     ]
    },
    {
     "name": "stdout",
     "output_type": "stream",
     "text": [
      "             precision    recall  f1-score   support\n",
      "\n",
      "          0       0.92      0.97      0.94      7303\n",
      "          1       0.54      0.30      0.38       935\n",
      "\n",
      "avg / total       0.87      0.89      0.88      8238\n",
      "\n"
     ]
    },
    {
     "name": "stderr",
     "output_type": "stream",
     "text": [
      "[Parallel(n_jobs=4)]: Done  42 tasks      | elapsed:    0.1s\n",
      "[Parallel(n_jobs=4)]: Done 100 out of 100 | elapsed:    0.3s finished\n"
     ]
    },
    {
     "name": "stdout",
     "output_type": "stream",
     "text": [
      "accuracy score 0.8911143481427531 0.9949317147192717\n"
     ]
    }
   ],
   "source": [
    "rf = RandomForestClassifier(n_estimators=100,verbose=True,n_jobs=-1)\n",
    "rf.fit(X_train,Y_train)\n",
    "con = confusion_matrix(Y_valid,rf.predict(X_valid))\n",
    "print(classification_report(Y_valid,rf.predict(X_valid)))\n",
    "print (\"accuracy score\",accuracy_score(Y_valid,rf.predict(X_valid)),accuracy_score(Y_train,rf.predict(X_train)))\n",
    "\n",
    "\n",
    "importances = rf.feature_importances_\n",
    "importances.sort()\n"
   ]
  },
  {
   "cell_type": "code",
   "execution_count": 64,
   "metadata": {},
   "outputs": [
    {
     "data": {
      "text/html": [
       "<div>\n",
       "<style scoped>\n",
       "    .dataframe tbody tr th:only-of-type {\n",
       "        vertical-align: middle;\n",
       "    }\n",
       "\n",
       "    .dataframe tbody tr th {\n",
       "        vertical-align: top;\n",
       "    }\n",
       "\n",
       "    .dataframe thead th {\n",
       "        text-align: right;\n",
       "    }\n",
       "</style>\n",
       "<table border=\"1\" class=\"dataframe\">\n",
       "  <thead>\n",
       "    <tr style=\"text-align: right;\">\n",
       "      <th></th>\n",
       "      <th>age</th>\n",
       "      <th>job</th>\n",
       "      <th>marital</th>\n",
       "      <th>education</th>\n",
       "      <th>default</th>\n",
       "      <th>housing</th>\n",
       "      <th>loan</th>\n",
       "      <th>contact</th>\n",
       "      <th>campaign</th>\n",
       "      <th>pdays</th>\n",
       "      <th>previous</th>\n",
       "      <th>poutcome</th>\n",
       "      <th>emp_var_rate</th>\n",
       "      <th>cons_price_idx</th>\n",
       "      <th>cons_conf_idx</th>\n",
       "      <th>euribor3m</th>\n",
       "      <th>nr_employed</th>\n",
       "      <th>buck</th>\n",
       "    </tr>\n",
       "  </thead>\n",
       "  <tbody>\n",
       "    <tr>\n",
       "      <th>22945</th>\n",
       "      <td>19</td>\n",
       "      <td>0</td>\n",
       "      <td>2</td>\n",
       "      <td>6</td>\n",
       "      <td>0</td>\n",
       "      <td>2</td>\n",
       "      <td>0</td>\n",
       "      <td>0</td>\n",
       "      <td>7</td>\n",
       "      <td>999</td>\n",
       "      <td>0</td>\n",
       "      <td>1</td>\n",
       "      <td>1.4</td>\n",
       "      <td>93.444</td>\n",
       "      <td>-36.1</td>\n",
       "      <td>4.965</td>\n",
       "      <td>5228.1</td>\n",
       "      <td>2</td>\n",
       "    </tr>\n",
       "    <tr>\n",
       "      <th>38430</th>\n",
       "      <td>54</td>\n",
       "      <td>4</td>\n",
       "      <td>1</td>\n",
       "      <td>6</td>\n",
       "      <td>0</td>\n",
       "      <td>2</td>\n",
       "      <td>0</td>\n",
       "      <td>0</td>\n",
       "      <td>3</td>\n",
       "      <td>999</td>\n",
       "      <td>2</td>\n",
       "      <td>0</td>\n",
       "      <td>-3.4</td>\n",
       "      <td>92.431</td>\n",
       "      <td>-26.9</td>\n",
       "      <td>0.733</td>\n",
       "      <td>5017.5</td>\n",
       "      <td>0</td>\n",
       "    </tr>\n",
       "    <tr>\n",
       "      <th>5046</th>\n",
       "      <td>18</td>\n",
       "      <td>1</td>\n",
       "      <td>1</td>\n",
       "      <td>2</td>\n",
       "      <td>0</td>\n",
       "      <td>2</td>\n",
       "      <td>0</td>\n",
       "      <td>1</td>\n",
       "      <td>5</td>\n",
       "      <td>999</td>\n",
       "      <td>0</td>\n",
       "      <td>1</td>\n",
       "      <td>1.1</td>\n",
       "      <td>93.994</td>\n",
       "      <td>-36.4</td>\n",
       "      <td>4.857</td>\n",
       "      <td>5191.0</td>\n",
       "      <td>2</td>\n",
       "    </tr>\n",
       "    <tr>\n",
       "      <th>17050</th>\n",
       "      <td>24</td>\n",
       "      <td>0</td>\n",
       "      <td>1</td>\n",
       "      <td>2</td>\n",
       "      <td>1</td>\n",
       "      <td>0</td>\n",
       "      <td>0</td>\n",
       "      <td>0</td>\n",
       "      <td>3</td>\n",
       "      <td>999</td>\n",
       "      <td>0</td>\n",
       "      <td>1</td>\n",
       "      <td>1.4</td>\n",
       "      <td>93.918</td>\n",
       "      <td>-42.7</td>\n",
       "      <td>4.962</td>\n",
       "      <td>5228.1</td>\n",
       "      <td>1</td>\n",
       "    </tr>\n",
       "    <tr>\n",
       "      <th>29254</th>\n",
       "      <td>21</td>\n",
       "      <td>9</td>\n",
       "      <td>1</td>\n",
       "      <td>5</td>\n",
       "      <td>1</td>\n",
       "      <td>0</td>\n",
       "      <td>0</td>\n",
       "      <td>0</td>\n",
       "      <td>2</td>\n",
       "      <td>999</td>\n",
       "      <td>0</td>\n",
       "      <td>1</td>\n",
       "      <td>-1.8</td>\n",
       "      <td>93.075</td>\n",
       "      <td>-47.1</td>\n",
       "      <td>1.405</td>\n",
       "      <td>5099.1</td>\n",
       "      <td>2</td>\n",
       "    </tr>\n",
       "  </tbody>\n",
       "</table>\n",
       "</div>"
      ],
      "text/plain": [
       "       age  job  marital  education  default  housing  loan  contact  \\\n",
       "22945   19    0        2          6        0        2     0        0   \n",
       "38430   54    4        1          6        0        2     0        0   \n",
       "5046    18    1        1          2        0        2     0        1   \n",
       "17050   24    0        1          2        1        0     0        0   \n",
       "29254   21    9        1          5        1        0     0        0   \n",
       "\n",
       "       campaign  pdays  previous  poutcome  emp_var_rate  cons_price_idx  \\\n",
       "22945         7    999         0         1           1.4          93.444   \n",
       "38430         3    999         2         0          -3.4          92.431   \n",
       "5046          5    999         0         1           1.1          93.994   \n",
       "17050         3    999         0         1           1.4          93.918   \n",
       "29254         2    999         0         1          -1.8          93.075   \n",
       "\n",
       "       cons_conf_idx  euribor3m  nr_employed  buck  \n",
       "22945          -36.1      4.965       5228.1     2  \n",
       "38430          -26.9      0.733       5017.5     0  \n",
       "5046           -36.4      4.857       5191.0     2  \n",
       "17050          -42.7      4.962       5228.1     1  \n",
       "29254          -47.1      1.405       5099.1     2  "
      ]
     },
     "execution_count": 64,
     "metadata": {},
     "output_type": "execute_result"
    }
   ],
   "source": [
    "X_valid.head()"
   ]
  },
  {
   "cell_type": "code",
   "execution_count": 66,
   "metadata": {},
   "outputs": [
    {
     "name": "stdout",
     "output_type": "stream",
     "text": [
      "22945    0\n",
      "38430    1\n",
      "5046     0\n",
      "17050    0\n",
      "29254    0\n",
      "28527    0\n",
      "38372    0\n",
      "34222    0\n",
      "14610    0\n",
      "9844     0\n",
      "4399     0\n",
      "4031     0\n",
      "8248     0\n",
      "3008     0\n",
      "1279     0\n",
      "37211    0\n",
      "6641     0\n",
      "39971    0\n",
      "33948    0\n",
      "5203     0\n",
      "16526    0\n",
      "12163    0\n",
      "32717    1\n",
      "25261    0\n",
      "28660    0\n",
      "31400    1\n",
      "3391     0\n",
      "26276    0\n",
      "15741    0\n",
      "27064    0\n",
      "        ..\n",
      "14669    0\n",
      "35119    0\n",
      "30539    0\n",
      "20743    0\n",
      "1618     0\n",
      "6069     0\n",
      "1052     0\n",
      "2650     0\n",
      "18558    0\n",
      "39800    0\n",
      "40730    1\n",
      "874      0\n",
      "16995    0\n",
      "5334     0\n",
      "10769    0\n",
      "34330    1\n",
      "32191    1\n",
      "24041    0\n",
      "4835     0\n",
      "32733    0\n",
      "31015    0\n",
      "34349    0\n",
      "41108    0\n",
      "23660    0\n",
      "39112    1\n",
      "39640    1\n",
      "31444    0\n",
      "39168    0\n",
      "7722     0\n",
      "25678    0\n",
      "Name: y, Length: 8238, dtype: int64 [0 0 0 0 0]\n"
     ]
    },
    {
     "name": "stderr",
     "output_type": "stream",
     "text": [
      "[Parallel(n_jobs=4)]: Done  42 tasks      | elapsed:    0.1s\n",
      "[Parallel(n_jobs=4)]: Done 100 out of 100 | elapsed:    0.1s finished\n"
     ]
    }
   ],
   "source": [
    "print(Y_valid,rf.predict(X_valid))"
   ]
  },
  {
   "cell_type": "code",
   "execution_count": null,
   "metadata": {},
   "outputs": [],
   "source": [
    "##Feature Importance"
   ]
  },
  {
   "cell_type": "code",
   "execution_count": 60,
   "metadata": {},
   "outputs": [
    {
     "name": "stdout",
     "output_type": "stream",
     "text": [
      "buck 0.01187249444071927\n",
      "nr_employed 0.015056603372032453\n",
      "euribor3m 0.015353408724113723\n",
      "cons_conf_idx 0.024403980526894645\n",
      "cons_price_idx 0.02556980619027599\n",
      "emp_var_rate 0.025770129469594026\n",
      "poutcome 0.02833466387732696\n",
      "previous 0.03153140425116551\n",
      "pdays 0.03178946258250122\n",
      "campaign 0.03321947030870371\n",
      "contact 0.04335130424762488\n",
      "loan 0.04857501254555105\n",
      "housing 0.05272431182028367\n",
      "default 0.07771809969972769\n",
      "education 0.08817339358122607\n",
      "marital 0.10996823020068468\n",
      "job 0.16384069399711473\n",
      "age 0.17274753016445976\n"
     ]
    },
    {
     "data": {
      "image/png": "[encoded data removed]",
      "text/plain": [
       "<Figure size 432x288 with 1 Axes>"
      ]
     },
     "metadata": {},
     "output_type": "display_data"
    }
   ],
   "source": [
    "std = np.std([rf.feature_importances_ for rf in rf.estimators_], axis=0)\n",
    "\n",
    "indices = np.argsort(importances)[::-1]\n",
    "i = 0\n",
    "\n",
    "for i in range (len(importances)):\n",
    "    colname = X.columns[indices[i]]\n",
    "    print(colname,importances[i])\n",
    "    i+=1    \n",
    "# plt.figure(figsize=(20,10))\n",
    "plt.title(\"Feature importances\")\n",
    "plt.bar(range(X.shape[1]), importances[indices],\n",
    "       color=\"r\", yerr=std[indices], align=\"center\")\n",
    "plt.xticks(range(X.shape[1]), indices)\n",
    "plt.xlim([-1, X.shape[1]])\n",
    "plt.show()    "
   ]
  },
  {
   "cell_type": "code",
   "execution_count": 53,
   "metadata": {},
   "outputs": [
    {
     "name": "stdout",
     "output_type": "stream",
     "text": [
      "[0.98080509 0.85254237] [0.98091268 0.85182049] 0.9661066329999028\n"
     ]
    }
   ],
   "source": [
    "##other model\n",
    "from sklearn.ensemble import BaggingClassifier\n",
    "from sklearn.tree import DecisionTreeClassifier\n",
    "model = BaggingClassifier(base_estimator=DecisionTreeClassifier(), n_estimators=100,bootstrap=True)\n",
    "model.fit(X_sample, y_sample)\n",
    "y_pred = model.predict(X_test)\n",
    "\n",
    "print(recall_score(y_test, y_pred, average=None), precision_score(y_test, y_pred, average=None), accuracy_score(y_test, y_pred),accuracy_score(Y_train,rf.predict(X_train)))"
   ]
  },
  {
   "cell_type": "code",
   "execution_count": null,
   "metadata": {},
   "outputs": [],
   "source": []
  }
 ],
 "metadata": {
  "kernelspec": {
   "display_name": "Python 3",
   "language": "python",
   "name": "python3"
  },
  "language_info": {
   "codemirror_mode": {
    "name": "ipython",
    "version": 3
   },
   "file_extension": ".py",
   "mimetype": "text/x-python",
   "name": "python",
   "nbconvert_exporter": "python",
   "pygments_lexer": "ipython3",
   "version": "3.6.5"
  }
 },
 "nbformat": 4,
 "nbformat_minor": 2
}
